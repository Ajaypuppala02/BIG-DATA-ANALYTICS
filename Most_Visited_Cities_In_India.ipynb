{
  "nbformat": 4,
  "nbformat_minor": 0,
  "metadata": {
    "colab": {
      "provenance": [],
      "authorship_tag": "ABX9TyNXXofJE/61UP1lvsSmRfcq",
      "include_colab_link": true
    },
    "kernelspec": {
      "name": "python3",
      "display_name": "Python 3"
    },
    "language_info": {
      "name": "python"
    }
  },
  "cells": [
    {
      "cell_type": "markdown",
      "metadata": {
        "id": "view-in-github",
        "colab_type": "text"
      },
      "source": [
        "<a href=\"https://colab.research.google.com/github/Ajaypuppala02/BIG-DATA-ANALYTICS/blob/main/Most_Visited_Cities_In_India.ipynb\" target=\"_parent\"><img src=\"https://colab.research.google.com/assets/colab-badge.svg\" alt=\"Open In Colab\"/></a>"
      ]
    },
    {
      "cell_type": "markdown",
      "source": [
        "# Import required libraries"
      ],
      "metadata": {
        "id": "KbtNFY9SxVn5"
      }
    },
    {
      "cell_type": "code",
      "execution_count": 1,
      "metadata": {
        "id": "fpngtCWlw9uc"
      },
      "outputs": [],
      "source": [
        "from pyspark.sql import SparkSession"
      ]
    },
    {
      "cell_type": "code",
      "source": [
        "from pyspark.sql.functions import col , count , sum , avg , desc , isnull , when"
      ],
      "metadata": {
        "id": "pbcGSTFDxkRa"
      },
      "execution_count": 2,
      "outputs": []
    },
    {
      "cell_type": "code",
      "source": [
        "from pyspark.ml.feature import VectorAssembler , StringIndexer"
      ],
      "metadata": {
        "id": "iKY5OWlcyOXY"
      },
      "execution_count": 3,
      "outputs": []
    },
    {
      "cell_type": "code",
      "source": [
        "from pyspark.ml.regression import LinearRegression"
      ],
      "metadata": {
        "id": "suHOMYJXyeyp"
      },
      "execution_count": 4,
      "outputs": []
    },
    {
      "cell_type": "code",
      "source": [
        "from pyspark.ml.classification import RandomForestClassifier"
      ],
      "metadata": {
        "id": "ViqWVqtnyxnR"
      },
      "execution_count": 5,
      "outputs": []
    },
    {
      "cell_type": "code",
      "source": [
        "from pyspark.ml.evaluation import MulticlassClassificationEvaluator , RegressionEvaluator"
      ],
      "metadata": {
        "id": "HQn0KgNRy8EG"
      },
      "execution_count": 6,
      "outputs": []
    },
    {
      "cell_type": "code",
      "source": [
        "import matplotlib.pyplot as plt\n"
      ],
      "metadata": {
        "id": "96JW0fbLzQDj"
      },
      "execution_count": 7,
      "outputs": []
    },
    {
      "cell_type": "markdown",
      "source": [
        "# Initialize Spark session"
      ],
      "metadata": {
        "id": "YVyopUgR0ARi"
      }
    },
    {
      "cell_type": "code",
      "source": [
        "spark = SparkSession.builder.appName(\"PredictiveAnalysis\").getOrCreate()"
      ],
      "metadata": {
        "id": "O07pIllzzq4v"
      },
      "execution_count": 8,
      "outputs": []
    },
    {
      "cell_type": "markdown",
      "source": [
        "Load dataset into Spark DataFrame"
      ],
      "metadata": {
        "id": "wNm_cNG3v_OX"
      }
    },
    {
      "cell_type": "code",
      "source": [
        "CD = spark.read.csv(\"/content/most visited cities in India.csv\", header=True, inferSchema=True)"
      ],
      "metadata": {
        "id": "u9Znp02MvxaC"
      },
      "execution_count": 9,
      "outputs": []
    },
    {
      "cell_type": "markdown",
      "source": [
        "Display basic dataset information"
      ],
      "metadata": {
        "id": "Stcg4faXwshk"
      }
    },
    {
      "cell_type": "code",
      "source": [
        "CD.printSchema()"
      ],
      "metadata": {
        "colab": {
          "base_uri": "https://localhost:8080/"
        },
        "id": "s8so78Itwgbd",
        "outputId": "9d42b461-ba85-4648-8896-4263a6528f9a"
      },
      "execution_count": 10,
      "outputs": [
        {
          "output_type": "stream",
          "name": "stdout",
          "text": [
            "root\n",
            " |-- Id: integer (nullable = true)\n",
            " |-- City: string (nullable = true)\n",
            " |-- Rating: double (nullable = true)\n",
            " |-- About the city (long Description): string (nullable = true)\n",
            " |-- Best Time to visit: string (nullable = true)\n",
            "\n"
          ]
        }
      ]
    },
    {
      "cell_type": "code",
      "source": [
        "print(\"Total rows in Dataset:\", CD.count())"
      ],
      "metadata": {
        "colab": {
          "base_uri": "https://localhost:8080/"
        },
        "id": "q6SRYR5swx63",
        "outputId": "889ae33d-6afc-4369-ded4-1e91b7dc1b60"
      },
      "execution_count": 11,
      "outputs": [
        {
          "output_type": "stream",
          "name": "stdout",
          "text": [
            "Total rows in Dataset: 71\n"
          ]
        }
      ]
    },
    {
      "cell_type": "markdown",
      "source": [
        "Handle missing values - Drop rows with missing values"
      ],
      "metadata": {
        "id": "tpjEsYFIxUTn"
      }
    },
    {
      "cell_type": "code",
      "source": [
        "CD = CD.dropna()"
      ],
      "metadata": {
        "id": "anoZqoBmxJF4"
      },
      "execution_count": 12,
      "outputs": []
    },
    {
      "cell_type": "code",
      "source": [
        "print (\"Total rows after dropping missing values:\" , CD.count())"
      ],
      "metadata": {
        "colab": {
          "base_uri": "https://localhost:8080/"
        },
        "id": "k1xfcBpIxddH",
        "outputId": "95cfb7ca-bda1-47ed-ef8c-8d783be055d6"
      },
      "execution_count": 13,
      "outputs": [
        {
          "output_type": "stream",
          "name": "stdout",
          "text": [
            "Total rows after dropping missing values: 71\n"
          ]
        }
      ]
    },
    {
      "cell_type": "markdown",
      "source": [
        "Feature Selection - Choosing relevant features for prediction &\n",
        "Assuming \"Id\" as a feature and \"Rating\" as the target variable"
      ],
      "metadata": {
        "id": "-xE_p9e3x9xl"
      }
    },
    {
      "cell_type": "code",
      "source": [
        "CD = CD.select(\"Id\", \"Rating\")"
      ],
      "metadata": {
        "id": "G4nYbiQ1xygU"
      },
      "execution_count": 15,
      "outputs": []
    },
    {
      "cell_type": "markdown",
      "source": [
        " Convert the target column to numeric if necessary"
      ],
      "metadata": {
        "id": "48zeISD_1Ak4"
      }
    },
    {
      "cell_type": "code",
      "source": [
        "CD = CD.withColumn(\"Rating\", col(\"Rating\").cast(\"double\"))"
      ],
      "metadata": {
        "id": "VjU78-l1z23w"
      },
      "execution_count": 16,
      "outputs": []
    },
    {
      "cell_type": "markdown",
      "source": [
        "Feature Engineering - Vector Assembler"
      ],
      "metadata": {
        "id": "lfkrcS0415q_"
      }
    },
    {
      "cell_type": "code",
      "source": [
        "feature_assembler = VectorAssembler(inputCols=[\"Id\"], outputCol=\"features\")"
      ],
      "metadata": {
        "id": "4_hwXf-u1U7H"
      },
      "execution_count": 17,
      "outputs": []
    },
    {
      "cell_type": "code",
      "source": [
        "CD = feature_assembler.transform(CD)"
      ],
      "metadata": {
        "id": "sVDuXGIq2EQW"
      },
      "execution_count": 18,
      "outputs": []
    },
    {
      "cell_type": "markdown",
      "source": [
        "Split data into training and testing sets (80-20 split)"
      ],
      "metadata": {
        "id": "NMUWsQPB2gJK"
      }
    },
    {
      "cell_type": "code",
      "source": [
        "train_data, test_data = CD.randomSplit([0.8, 0.2], seed=42)"
      ],
      "metadata": {
        "id": "3P9tRo3T2ZgA"
      },
      "execution_count": 19,
      "outputs": []
    },
    {
      "cell_type": "markdown",
      "source": [
        "Train a Regression Model"
      ],
      "metadata": {
        "id": "FHR3MHWx32jk"
      }
    },
    {
      "cell_type": "code",
      "source": [
        "LR = LinearRegression(featuresCol=\"features\", labelCol=\"Rating\")"
      ],
      "metadata": {
        "id": "AzxY5Rm42o8x"
      },
      "execution_count": 20,
      "outputs": []
    },
    {
      "cell_type": "code",
      "source": [
        "model = LR.fit(train_data)"
      ],
      "metadata": {
        "id": "1aZw9zzw6DEI"
      },
      "execution_count": 21,
      "outputs": []
    },
    {
      "cell_type": "markdown",
      "source": [
        "Make Predictions"
      ],
      "metadata": {
        "id": "0oDBZv0C6UrP"
      }
    },
    {
      "cell_type": "code",
      "source": [
        "predictions = model.transform(test_data)"
      ],
      "metadata": {
        "id": "PNYLfPLI6Otm"
      },
      "execution_count": 22,
      "outputs": []
    },
    {
      "cell_type": "code",
      "source": [
        "predictions.show(10)"
      ],
      "metadata": {
        "colab": {
          "base_uri": "https://localhost:8080/"
        },
        "id": "Z0bPc3FS6fG1",
        "outputId": "1a78bcc3-236e-4490-fa2e-4c45d6c68c7c"
      },
      "execution_count": 23,
      "outputs": [
        {
          "output_type": "stream",
          "name": "stdout",
          "text": [
            "+---+------+--------+------------------+\n",
            "| Id|Rating|features|        prediction|\n",
            "+---+------+--------+------------------+\n",
            "|  3|   4.4|   [3.0]| 4.601987358601456|\n",
            "|  7|   4.9|   [7.0]| 4.583464660973526|\n",
            "|  9|   4.2|   [9.0]| 4.574203312159561|\n",
            "| 14|   4.5|  [14.0]| 4.551049940124649|\n",
            "| 20|   4.8|  [20.0]| 4.523265893682754|\n",
            "| 24|   4.6|  [24.0]| 4.504743196054824|\n",
            "| 30|   4.3|  [30.0]| 4.476959149612929|\n",
            "| 36|   4.5|  [36.0]| 4.449175103171035|\n",
            "| 46|   4.7|  [46.0]|  4.40286835910121|\n",
            "| 47|   4.6|  [47.0]|4.3982376846942275|\n",
            "+---+------+--------+------------------+\n",
            "only showing top 10 rows\n",
            "\n"
          ]
        }
      ]
    },
    {
      "cell_type": "markdown",
      "source": [
        " Evaluate the Model"
      ],
      "metadata": {
        "id": "s3OKXDsF60dO"
      }
    },
    {
      "cell_type": "code",
      "source": [
        "reg_evaluator = RegressionEvaluator(labelCol=\"Rating\", predictionCol=\"prediction\", metricName=\"rmse\")"
      ],
      "metadata": {
        "id": "Ywf1SjHo6lbm"
      },
      "execution_count": 26,
      "outputs": []
    },
    {
      "cell_type": "code",
      "source": [
        "rmse= reg_evaluator.evaluate(predictions)"
      ],
      "metadata": {
        "id": "MUACdL-w7Hoo"
      },
      "execution_count": 27,
      "outputs": []
    },
    {
      "cell_type": "code",
      "source": [
        "print(f\"Root Mean Squared Error (RMSE): {rmse}\")"
      ],
      "metadata": {
        "colab": {
          "base_uri": "https://localhost:8080/"
        },
        "id": "wZubQudu7RCh",
        "outputId": "e36f5fe8-6d79-4ec7-9f86-2a9e4dc584e9"
      },
      "execution_count": 28,
      "outputs": [
        {
          "output_type": "stream",
          "name": "stdout",
          "text": [
            "Root Mean Squared Error (RMSE): 0.21073226506393167\n"
          ]
        }
      ]
    },
    {
      "cell_type": "markdown",
      "source": [
        "Save Model"
      ],
      "metadata": {
        "id": "a_GuIL9k8HOD"
      }
    },
    {
      "cell_type": "code",
      "source": [
        "model.save(\"/mnt/data/tourist_prediction_model\")"
      ],
      "metadata": {
        "id": "cknnCrsp7t67"
      },
      "execution_count": 29,
      "outputs": []
    },
    {
      "cell_type": "code",
      "source": [
        "print(\"Predictive analysis using PySpark ML completed successfully!\")"
      ],
      "metadata": {
        "colab": {
          "base_uri": "https://localhost:8080/"
        },
        "id": "kPHF4bea8NBt",
        "outputId": "c89f37d2-750a-41ce-e85c-c1e57198ff9d"
      },
      "execution_count": 30,
      "outputs": [
        {
          "output_type": "stream",
          "name": "stdout",
          "text": [
            "Predictive analysis using PySpark ML completed successfully!\n"
          ]
        }
      ]
    },
    {
      "cell_type": "code",
      "source": [],
      "metadata": {
        "id": "72i4PCNf8gRX"
      },
      "execution_count": null,
      "outputs": []
    }
  ]
}
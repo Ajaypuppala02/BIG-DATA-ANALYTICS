{
  "nbformat": 4,
  "nbformat_minor": 0,
  "metadata": {
    "colab": {
      "provenance": [],
      "authorship_tag": "ABX9TyMwh6D9tH1g4h//OeXfw+2m",
      "include_colab_link": true
    },
    "kernelspec": {
      "name": "python3",
      "display_name": "Python 3"
    },
    "language_info": {
      "name": "python"
    }
  },
  "cells": [
    {
      "cell_type": "markdown",
      "metadata": {
        "id": "view-in-github",
        "colab_type": "text"
      },
      "source": [
        "<a href=\"https://colab.research.google.com/github/Ajaypuppala02/BIG-DATA-ANALYTICS/blob/main/Crimes_against_women_in_india.ipynb\" target=\"_parent\"><img src=\"https://colab.research.google.com/assets/colab-badge.svg\" alt=\"Open In Colab\"/></a>"
      ]
    },
    {
      "cell_type": "markdown",
      "source": [
        "Importing required libraries"
      ],
      "metadata": {
        "id": "o6xagGenOsiy"
      }
    },
    {
      "cell_type": "code",
      "execution_count": null,
      "metadata": {
        "colab": {
          "base_uri": "https://localhost:8080/"
        },
        "id": "lxH4rtt7HRn1",
        "outputId": "72b2c224-e56b-4350-9752-cdd6a63a874b"
      },
      "outputs": [
        {
          "output_type": "stream",
          "name": "stdout",
          "text": [
            "Requirement already satisfied: Pyspark in /usr/local/lib/python3.11/dist-packages (3.5.4)\n",
            "Requirement already satisfied: py4j==0.10.9.7 in /usr/local/lib/python3.11/dist-packages (from Pyspark) (0.10.9.7)\n"
          ]
        }
      ],
      "source": [
        "pip install Pyspark"
      ]
    },
    {
      "cell_type": "markdown",
      "source": [
        " Initialize Spark session\n",
        "\n",
        "\n"
      ],
      "metadata": {
        "id": "rmpWL84nO704"
      }
    },
    {
      "cell_type": "code",
      "source": [
        "from pyspark.sql import SparkSession"
      ],
      "metadata": {
        "id": "8WuLfAJTHoCj"
      },
      "execution_count": null,
      "outputs": []
    },
    {
      "cell_type": "markdown",
      "source": [
        "Load dataset into Spark DataFrame"
      ],
      "metadata": {
        "id": "VtGUQx_-RoD8"
      }
    },
    {
      "cell_type": "code",
      "source": [
        "crime = SparkSession.builder.appName('/content/crimes_against_women_2001-2014.csv').getOrCreate()"
      ],
      "metadata": {
        "id": "BNNaazAuHxn-"
      },
      "execution_count": null,
      "outputs": []
    },
    {
      "cell_type": "code",
      "source": [
        "print (crime.version)"
      ],
      "metadata": {
        "colab": {
          "base_uri": "https://localhost:8080/"
        },
        "id": "uu-1Hmt5IXgG",
        "outputId": "db8108a4-abb2-4c14-863a-64dc102342ea"
      },
      "execution_count": null,
      "outputs": [
        {
          "output_type": "stream",
          "name": "stdout",
          "text": [
            "3.5.4\n"
          ]
        }
      ]
    },
    {
      "cell_type": "code",
      "source": [
        "crime.stop"
      ],
      "metadata": {
        "colab": {
          "base_uri": "https://localhost:8080/",
          "height": 186
        },
        "id": "BiJeJ_hXJFeq",
        "outputId": "dd1e72a4-c754-4f0d-d4d7-687ef9af376a"
      },
      "execution_count": null,
      "outputs": [
        {
          "output_type": "execute_result",
          "data": {
            "text/plain": [
              "<bound method SparkSession.stop of <pyspark.sql.session.SparkSession object at 0x7d6b8bd3edd0>>"
            ],
            "text/html": [
              "<div style=\"max-width:800px; border: 1px solid var(--colab-border-color);\"><style>\n",
              "      pre.function-repr-contents {\n",
              "        overflow-x: auto;\n",
              "        padding: 8px 12px;\n",
              "        max-height: 500px;\n",
              "      }\n",
              "\n",
              "      pre.function-repr-contents.function-repr-contents-collapsed {\n",
              "        cursor: pointer;\n",
              "        max-height: 100px;\n",
              "      }\n",
              "    </style>\n",
              "    <pre style=\"white-space: initial; background:\n",
              "         var(--colab-secondary-surface-color); padding: 8px 12px;\n",
              "         border-bottom: 1px solid var(--colab-border-color);\"><b>pyspark.sql.session.SparkSession.stop</b><br/>def stop() -&gt; None</pre><pre class=\"function-repr-contents function-repr-contents-collapsed\" style=\"\"><a class=\"filepath\" style=\"display:none\" href=\"#\">/usr/local/lib/python3.11/dist-packages/pyspark/sql/session.py</a>Stop the underlying :class:`SparkContext`.\n",
              "\n",
              ".. versionadded:: 2.0.0\n",
              "\n",
              ".. versionchanged:: 3.4.0\n",
              "    Supports Spark Connect.\n",
              "\n",
              "Examples\n",
              "--------\n",
              "&gt;&gt;&gt; spark.stop()  # doctest: +SKIP</pre>\n",
              "      <script>\n",
              "      if (google.colab.kernel.accessAllowed && google.colab.files && google.colab.files.view) {\n",
              "        for (const element of document.querySelectorAll('.filepath')) {\n",
              "          element.style.display = 'block'\n",
              "          element.onclick = (event) => {\n",
              "            event.preventDefault();\n",
              "            event.stopPropagation();\n",
              "            google.colab.files.view(element.textContent, 1781);\n",
              "          };\n",
              "        }\n",
              "      }\n",
              "      for (const element of document.querySelectorAll('.function-repr-contents')) {\n",
              "        element.onclick = (event) => {\n",
              "          event.preventDefault();\n",
              "          event.stopPropagation();\n",
              "          element.classList.toggle('function-repr-contents-collapsed');\n",
              "        };\n",
              "      }\n",
              "      </script>\n",
              "      </div>"
            ]
          },
          "metadata": {},
          "execution_count": 11
        }
      ]
    },
    {
      "cell_type": "code",
      "source": [
        "from pyspark.sql import SparkSession"
      ],
      "metadata": {
        "id": "nadLTi3EM4gh"
      },
      "execution_count": null,
      "outputs": []
    },
    {
      "cell_type": "code",
      "source": [
        "spark = SparkSession.builder.appName(\"Crimes against women in india\").getOrCreate()"
      ],
      "metadata": {
        "id": "BLHc-XgaNAAg"
      },
      "execution_count": null,
      "outputs": []
    },
    {
      "cell_type": "code",
      "source": [
        "data_path = \"/content/crimes_against_women_2001-2014.csv\""
      ],
      "metadata": {
        "id": "QDC6WvJVNT6j"
      },
      "execution_count": null,
      "outputs": []
    },
    {
      "cell_type": "code",
      "source": [
        "AB = spark.read.csv(data_path ,  header=True , inferSchema=True)"
      ],
      "metadata": {
        "id": "NO0UyY5ROiHp"
      },
      "execution_count": null,
      "outputs": []
    },
    {
      "cell_type": "markdown",
      "source": [
        "Display basic dataset information"
      ],
      "metadata": {
        "id": "bpNxA30aSF1W"
      }
    },
    {
      "cell_type": "code",
      "source": [
        "AB.printSchema"
      ],
      "metadata": {
        "colab": {
          "base_uri": "https://localhost:8080/",
          "height": 586
        },
        "id": "_n8DjslnPefe",
        "outputId": "b3aa042f-3214-4cf3-946e-fc97a2a9a9b0"
      },
      "execution_count": null,
      "outputs": [
        {
          "output_type": "execute_result",
          "data": {
            "text/plain": [
              "<bound method DataFrame.printSchema of DataFrame[_c0: int, STATE/UT: string, DISTRICT: string, Year: int, Rape: int, Kidnapping and Abduction: int, Dowry Deaths: int, Assault on women with intent to outrage her modesty: int, Insult to modesty of Women: int, Cruelty by Husband or his Relatives: int, Importation of Girls: int]>"
            ],
            "text/html": [
              "<div style=\"max-width:800px; border: 1px solid var(--colab-border-color);\"><style>\n",
              "      pre.function-repr-contents {\n",
              "        overflow-x: auto;\n",
              "        padding: 8px 12px;\n",
              "        max-height: 500px;\n",
              "      }\n",
              "\n",
              "      pre.function-repr-contents.function-repr-contents-collapsed {\n",
              "        cursor: pointer;\n",
              "        max-height: 100px;\n",
              "      }\n",
              "    </style>\n",
              "    <pre style=\"white-space: initial; background:\n",
              "         var(--colab-secondary-surface-color); padding: 8px 12px;\n",
              "         border-bottom: 1px solid var(--colab-border-color);\"><b>pyspark.sql.dataframe.DataFrame.printSchema</b><br/>def printSchema(level: Optional[int]=None) -&gt; None</pre><pre class=\"function-repr-contents function-repr-contents-collapsed\" style=\"\"><a class=\"filepath\" style=\"display:none\" href=\"#\">/usr/local/lib/python3.11/dist-packages/pyspark/sql/dataframe.py</a>Prints out the schema in the tree format.\n",
              "Optionally allows to specify how many levels to print if schema is nested.\n",
              "\n",
              ".. versionadded:: 1.3.0\n",
              "\n",
              ".. versionchanged:: 3.4.0\n",
              "    Supports Spark Connect.\n",
              "\n",
              "Parameters\n",
              "----------\n",
              "level : int, optional, default None\n",
              "    How many levels to print for nested schemas.\n",
              "\n",
              "    .. versionchanged:: 3.5.0\n",
              "        Added Level parameter.\n",
              "\n",
              "Examples\n",
              "--------\n",
              "&gt;&gt;&gt; df = spark.createDataFrame(\n",
              "...     [(14, &quot;Tom&quot;), (23, &quot;Alice&quot;), (16, &quot;Bob&quot;)], [&quot;age&quot;, &quot;name&quot;])\n",
              "&gt;&gt;&gt; df.printSchema()\n",
              "root\n",
              " |-- age: long (nullable = true)\n",
              " |-- name: string (nullable = true)\n",
              "\n",
              "&gt;&gt;&gt; df = spark.createDataFrame([(1, (2,2))], [&quot;a&quot;, &quot;b&quot;])\n",
              "&gt;&gt;&gt; df.printSchema(1)\n",
              "root\n",
              " |-- a: long (nullable = true)\n",
              " |-- b: struct (nullable = true)\n",
              "\n",
              "&gt;&gt;&gt; df.printSchema(2)\n",
              "root\n",
              " |-- a: long (nullable = true)\n",
              " |-- b: struct (nullable = true)\n",
              " |    |-- _1: long (nullable = true)\n",
              " |    |-- _2: long (nullable = true)</pre>\n",
              "      <script>\n",
              "      if (google.colab.kernel.accessAllowed && google.colab.files && google.colab.files.view) {\n",
              "        for (const element of document.querySelectorAll('.filepath')) {\n",
              "          element.style.display = 'block'\n",
              "          element.onclick = (event) => {\n",
              "            event.preventDefault();\n",
              "            event.stopPropagation();\n",
              "            google.colab.files.view(element.textContent, 583);\n",
              "          };\n",
              "        }\n",
              "      }\n",
              "      for (const element of document.querySelectorAll('.function-repr-contents')) {\n",
              "        element.onclick = (event) => {\n",
              "          event.preventDefault();\n",
              "          event.stopPropagation();\n",
              "          element.classList.toggle('function-repr-contents-collapsed');\n",
              "        };\n",
              "      }\n",
              "      </script>\n",
              "      </div>"
            ]
          },
          "metadata": {},
          "execution_count": 24
        }
      ]
    },
    {
      "cell_type": "code",
      "source": [
        "print (\"Number of rows:\", AB.count())"
      ],
      "metadata": {
        "colab": {
          "base_uri": "https://localhost:8080/"
        },
        "id": "she7OgQtQXzl",
        "outputId": "f07f4478-8cca-4415-8eae-2408d108dbef"
      },
      "execution_count": null,
      "outputs": [
        {
          "output_type": "stream",
          "name": "stdout",
          "text": [
            "Number of rows: 10677\n"
          ]
        }
      ]
    },
    {
      "cell_type": "markdown",
      "source": [
        "Preview the first few rows"
      ],
      "metadata": {
        "id": "lY9MNeVnSOfz"
      }
    },
    {
      "cell_type": "code",
      "source": [
        "AB.show(5)"
      ],
      "metadata": {
        "colab": {
          "base_uri": "https://localhost:8080/"
        },
        "id": "AJGn2H7CRuJV",
        "outputId": "f2812e25-9ff3-4ac5-f6aa-fe72cb648373"
      },
      "execution_count": null,
      "outputs": [
        {
          "output_type": "stream",
          "name": "stdout",
          "text": [
            "+---+--------------+-------------+----+----+------------------------+------------+---------------------------------------------------+--------------------------+-----------------------------------+--------------------+\n",
            "|_c0|      STATE/UT|     DISTRICT|Year|Rape|Kidnapping and Abduction|Dowry Deaths|Assault on women with intent to outrage her modesty|Insult to modesty of Women|Cruelty by Husband or his Relatives|Importation of Girls|\n",
            "+---+--------------+-------------+----+----+------------------------+------------+---------------------------------------------------+--------------------------+-----------------------------------+--------------------+\n",
            "|  0|ANDHRA PRADESH|     ADILABAD|2001|  50|                      30|          16|                                                149|                        34|                                175|                   0|\n",
            "|  1|ANDHRA PRADESH|    ANANTAPUR|2001|  23|                      30|           7|                                                118|                        24|                                154|                   0|\n",
            "|  2|ANDHRA PRADESH|     CHITTOOR|2001|  27|                      34|          14|                                                112|                        83|                                186|                   0|\n",
            "|  3|ANDHRA PRADESH|     CUDDAPAH|2001|  20|                      20|          17|                                                126|                        38|                                 57|                   0|\n",
            "|  4|ANDHRA PRADESH|EAST GODAVARI|2001|  23|                      26|          12|                                                109|                        58|                                247|                   0|\n",
            "+---+--------------+-------------+----+----+------------------------+------------+---------------------------------------------------+--------------------------+-----------------------------------+--------------------+\n",
            "only showing top 5 rows\n",
            "\n"
          ]
        }
      ]
    },
    {
      "cell_type": "markdown",
      "source": [
        " Check for missing values"
      ],
      "metadata": {
        "id": "FQITLFAVSXbp"
      }
    },
    {
      "cell_type": "code",
      "source": [
        "from pyspark.sql.functions import isnull , when , count"
      ],
      "metadata": {
        "id": "Tiv9kp-bR7yj"
      },
      "execution_count": null,
      "outputs": []
    },
    {
      "cell_type": "code",
      "source": [
        "missing_values = AB.select([count(when(isnull(c), c)).alias(c) for c in AB.columns])"
      ],
      "metadata": {
        "id": "5zmMP-6jV9aX"
      },
      "execution_count": null,
      "outputs": []
    },
    {
      "cell_type": "code",
      "source": [
        "missing_values. show()"
      ],
      "metadata": {
        "colab": {
          "base_uri": "https://localhost:8080/"
        },
        "id": "w2orpG6EXgS7",
        "outputId": "99fde501-9ed6-46be-9d4f-849743edb65f"
      },
      "execution_count": null,
      "outputs": [
        {
          "output_type": "stream",
          "name": "stdout",
          "text": [
            "+---+--------+--------+----+----+------------------------+------------+---------------------------------------------------+--------------------------+-----------------------------------+--------------------+\n",
            "|_c0|STATE/UT|DISTRICT|Year|Rape|Kidnapping and Abduction|Dowry Deaths|Assault on women with intent to outrage her modesty|Insult to modesty of Women|Cruelty by Husband or his Relatives|Importation of Girls|\n",
            "+---+--------+--------+----+----+------------------------+------------+---------------------------------------------------+--------------------------+-----------------------------------+--------------------+\n",
            "|  0|       0|       0|   0|   0|                       0|           0|                                                  0|                         0|                                  0|                   0|\n",
            "+---+--------+--------+----+----+------------------------+------------+---------------------------------------------------+--------------------------+-----------------------------------+--------------------+\n",
            "\n"
          ]
        }
      ]
    },
    {
      "cell_type": "markdown",
      "source": [],
      "metadata": {
        "id": "EDuWX0gkXFi3"
      }
    },
    {
      "cell_type": "code",
      "source": [
        "AB = AB.dropna()"
      ],
      "metadata": {
        "id": "9CCEaliNZEOx"
      },
      "execution_count": null,
      "outputs": []
    },
    {
      "cell_type": "code",
      "source": [
        "print('Total rows after dropping missing values:', AB.count())"
      ],
      "metadata": {
        "colab": {
          "base_uri": "https://localhost:8080/"
        },
        "id": "loNrHI65ZK_X",
        "outputId": "ae3c6ec2-41ed-4c26-950b-671c06c304ea"
      },
      "execution_count": null,
      "outputs": [
        {
          "output_type": "stream",
          "name": "stdout",
          "text": [
            "Total rows after dropping missing values: 10677\n"
          ]
        }
      ]
    },
    {
      "cell_type": "markdown",
      "source": [
        "Crime trend analysis over the years"
      ],
      "metadata": {
        "id": "UdTdniwWShMp"
      }
    },
    {
      "cell_type": "code",
      "source": [
        "crime_trend = AB.groupBy(\"year\").agg(count(\"DISTRICT\").alias(\"Total_Crimes\")).orderBy(\"year\")"
      ],
      "metadata": {
        "id": "uHLsZy4RZjzD"
      },
      "execution_count": null,
      "outputs": []
    },
    {
      "cell_type": "code",
      "source": [
        "crime_trend.show()"
      ],
      "metadata": {
        "colab": {
          "base_uri": "https://localhost:8080/"
        },
        "id": "NRr3_7Sla5cK",
        "outputId": "02eaa235-1081-464e-b9a2-374660de34a5"
      },
      "execution_count": null,
      "outputs": [
        {
          "output_type": "stream",
          "name": "stdout",
          "text": [
            "+----+------------+\n",
            "|year|Total_Crimes|\n",
            "+----+------------+\n",
            "|2001|         716|\n",
            "|2002|         719|\n",
            "|2003|         728|\n",
            "|2004|         729|\n",
            "|2005|         733|\n",
            "|2006|         740|\n",
            "|2007|         743|\n",
            "|2008|         761|\n",
            "|2009|         767|\n",
            "|2010|         779|\n",
            "|2011|         791|\n",
            "|2012|         811|\n",
            "|2013|         823|\n",
            "|2014|         837|\n",
            "+----+------------+\n",
            "\n"
          ]
        }
      ]
    },
    {
      "cell_type": "code",
      "source": [],
      "metadata": {
        "colab": {
          "base_uri": "https://localhost:8080/",
          "height": 141
        },
        "id": "67m0OnmPbHG7",
        "outputId": "6cfc2b11-dc49-45ad-c059-cc5dbc7dc645"
      },
      "execution_count": null,
      "outputs": [
        {
          "output_type": "error",
          "ename": "NameError",
          "evalue": "name 'STATE' is not defined",
          "traceback": [
            "\u001b[0;31m---------------------------------------------------------------------------\u001b[0m",
            "\u001b[0;31mNameError\u001b[0m                                 Traceback (most recent call last)",
            "\u001b[0;32m<ipython-input-40-9a86a43a7825>\u001b[0m in \u001b[0;36m<cell line: 0>\u001b[0;34m()\u001b[0m\n\u001b[0;32m----> 1\u001b[0;31m \u001b[0mtop_states\u001b[0m \u001b[0;34m=\u001b[0m \u001b[0mAB\u001b[0m\u001b[0;34m.\u001b[0m\u001b[0mgroupBy\u001b[0m\u001b[0;34m(\u001b[0m\u001b[0mSTATE\u001b[0m\u001b[0;34m/\u001b[0m\u001b[0mUT\u001b[0m\u001b[0;34m)\u001b[0m\u001b[0;34m.\u001b[0m\u001b[0magg\u001b[0m\u001b[0;34m(\u001b[0m\u001b[0mcount\u001b[0m\u001b[0;34m(\u001b[0m\u001b[0mDISTRICT\u001b[0m\u001b[0;34m)\u001b[0m\u001b[0;34m.\u001b[0m\u001b[0malias\u001b[0m\u001b[0;34m(\u001b[0m\u001b[0mTotal_Crimes\u001b[0m\u001b[0;34m)\u001b[0m\u001b[0;34m)\u001b[0m\u001b[0;34m.\u001b[0m\u001b[0morderBy\u001b[0m\u001b[0;34m(\u001b[0m\u001b[0mdesc\u001b[0m\u001b[0;34m(\u001b[0m\u001b[0mTotal_Crimes\u001b[0m\u001b[0;34m)\u001b[0m\u001b[0;34m)\u001b[0m\u001b[0;34m\u001b[0m\u001b[0;34m\u001b[0m\u001b[0m\n\u001b[0m",
            "\u001b[0;31mNameError\u001b[0m: name 'STATE' is not defined"
          ]
        }
      ]
    },
    {
      "cell_type": "markdown",
      "source": [
        "Identify top 5 states with the highest reported crimes"
      ],
      "metadata": {
        "id": "uOVEcH9sS6bf"
      }
    },
    {
      "cell_type": "code",
      "source": [
        "from pyspark.sql.functions import col"
      ],
      "metadata": {
        "id": "wl_8ogqJck3D"
      },
      "execution_count": null,
      "outputs": []
    },
    {
      "cell_type": "code",
      "source": [
        "from re import A\n",
        "from pyspark.sql.functions import col, count, desc\n",
        "\n",
        "Top_states = AB.groupBy(\"STATE/UT\").agg(count(col(\"DISTRICT\")).alias(\"Total_Crimes\")).orderBy(desc(\"Total_Crimes\"))"
      ],
      "metadata": {
        "id": "q6xBQqgLdWYs"
      },
      "execution_count": null,
      "outputs": []
    },
    {
      "cell_type": "code",
      "source": [
        "Top_states.show(5)"
      ],
      "metadata": {
        "colab": {
          "base_uri": "https://localhost:8080/"
        },
        "id": "-gEg6FWnePTY",
        "outputId": "464ffa91-60cd-4b36-8904-1eda6221989f"
      },
      "execution_count": null,
      "outputs": [
        {
          "output_type": "stream",
          "name": "stdout",
          "text": [
            "+--------------+------------+\n",
            "|      STATE/UT|Total_Crimes|\n",
            "+--------------+------------+\n",
            "| UTTAR PRADESH|         878|\n",
            "|MADHYA PRADESH|         628|\n",
            "|   MAHARASHTRA|         552|\n",
            "|         BIHAR|         540|\n",
            "|    TAMIL NADU|         469|\n",
            "+--------------+------------+\n",
            "only showing top 5 rows\n",
            "\n"
          ]
        }
      ]
    },
    {
      "cell_type": "markdown",
      "source": [
        "Analyze crime distribution by category"
      ],
      "metadata": {
        "id": "Qne3tVqoTBwM"
      }
    },
    {
      "cell_type": "code",
      "source": [
        "Crime_category = AB.groupBy(\"RAPE\").agg(count(\"DISTRICT\").alias(\"Total_Crimes\")).orderBy(desc(\"Total_Crimes\"))"
      ],
      "metadata": {
        "id": "jBq33pAcfOA_"
      },
      "execution_count": null,
      "outputs": []
    },
    {
      "cell_type": "code",
      "source": [
        "Crime_category.show(10)"
      ],
      "metadata": {
        "colab": {
          "base_uri": "https://localhost:8080/"
        },
        "id": "6hqN4xZdg3zG",
        "outputId": "182ce92c-7b68-445c-b576-a18fbfadf967"
      },
      "execution_count": null,
      "outputs": [
        {
          "output_type": "stream",
          "name": "stdout",
          "text": [
            "+----+------------+\n",
            "|RAPE|Total_Crimes|\n",
            "+----+------------+\n",
            "|   0|         593|\n",
            "|   1|         395|\n",
            "|   2|         296|\n",
            "|   3|         249|\n",
            "|  12|         242|\n",
            "|   6|         241|\n",
            "|  10|         241|\n",
            "|   5|         237|\n",
            "|   7|         234|\n",
            "|   8|         225|\n",
            "+----+------------+\n",
            "only showing top 10 rows\n",
            "\n"
          ]
        }
      ]
    },
    {
      "cell_type": "code",
      "source": [
        "Crime_category = AB.groupBy(\"DOWRY DEATHS\").agg(count(\"DISTRICT\").alias(\"Total_Crimes\")).orderBy(desc(\"Total_Crimes\"))"
      ],
      "metadata": {
        "id": "7bxveZD7hBaR"
      },
      "execution_count": null,
      "outputs": []
    },
    {
      "cell_type": "code",
      "source": [
        "Crime_category.show(10)"
      ],
      "metadata": {
        "colab": {
          "base_uri": "https://localhost:8080/"
        },
        "id": "rbDMd-zVhYzK",
        "outputId": "0c1f4898-63ff-4f58-f21e-19d5c638e2b1"
      },
      "execution_count": null,
      "outputs": [
        {
          "output_type": "stream",
          "name": "stdout",
          "text": [
            "+------------+------------+\n",
            "|DOWRY DEATHS|Total_Crimes|\n",
            "+------------+------------+\n",
            "|           0|        2647|\n",
            "|           1|         739|\n",
            "|           2|         574|\n",
            "|           3|         550|\n",
            "|           4|         489|\n",
            "|           5|         445|\n",
            "|           6|         359|\n",
            "|           7|         338|\n",
            "|           8|         284|\n",
            "|          10|         260|\n",
            "+------------+------------+\n",
            "only showing top 10 rows\n",
            "\n"
          ]
        }
      ]
    },
    {
      "cell_type": "code",
      "source": [
        "Crime_category = AB.groupBy(\"Kidnapping and Abduction\").agg(count(\"DISTRICT\").alias(\"Total_Crimes\")).orderBy(desc(\"Total_Crimes\"))"
      ],
      "metadata": {
        "id": "jicJJdB4hctr"
      },
      "execution_count": null,
      "outputs": []
    },
    {
      "cell_type": "code",
      "source": [
        "Crime_category.show(10)"
      ],
      "metadata": {
        "colab": {
          "base_uri": "https://localhost:8080/"
        },
        "id": "lDQP8-oBh_Hx",
        "outputId": "24f21e43-7330-427c-cac0-98104060694a"
      },
      "execution_count": null,
      "outputs": [
        {
          "output_type": "stream",
          "name": "stdout",
          "text": [
            "+------------------------+------------+\n",
            "|Kidnapping and Abduction|Total_Crimes|\n",
            "+------------------------+------------+\n",
            "|                       0|         951|\n",
            "|                       1|         384|\n",
            "|                       2|         304|\n",
            "|                       5|         286|\n",
            "|                       4|         284|\n",
            "|                       3|         266|\n",
            "|                       6|         255|\n",
            "|                      10|         249|\n",
            "|                       7|         247|\n",
            "|                       8|         245|\n",
            "+------------------------+------------+\n",
            "only showing top 10 rows\n",
            "\n"
          ]
        }
      ]
    },
    {
      "cell_type": "code",
      "source": [
        "Crime_category = AB.groupBy(\"Assault on women with intent to outrage her modesty\").agg(count(\"DISTRICT\").alias(\"Total_Crimes\")).orderBy(desc(\"Total_Crimes\"))"
      ],
      "metadata": {
        "id": "UU_F5A2OiiOB"
      },
      "execution_count": null,
      "outputs": []
    },
    {
      "cell_type": "code",
      "source": [
        "Crime_category.show(10)"
      ],
      "metadata": {
        "colab": {
          "base_uri": "https://localhost:8080/"
        },
        "id": "T2MiPrHiiqFi",
        "outputId": "ae083edd-317e-48cf-c80c-55db24d5dc79"
      },
      "execution_count": null,
      "outputs": [
        {
          "output_type": "stream",
          "name": "stdout",
          "text": [
            "+---------------------------------------------------+------------+\n",
            "|Assault on women with intent to outrage her modesty|Total_Crimes|\n",
            "+---------------------------------------------------+------------+\n",
            "|                                                  0|         685|\n",
            "|                                                  2|         264|\n",
            "|                                                  1|         255|\n",
            "|                                                  5|         232|\n",
            "|                                                  3|         217|\n",
            "|                                                  4|         209|\n",
            "|                                                  6|         197|\n",
            "|                                                  8|         181|\n",
            "|                                                  7|         180|\n",
            "|                                                 11|         178|\n",
            "+---------------------------------------------------+------------+\n",
            "only showing top 10 rows\n",
            "\n"
          ]
        }
      ]
    },
    {
      "cell_type": "code",
      "source": [
        "Crime_category = AB.groupBy(\"Insult to modesty of Women\").agg(count(\"DISTRICT\").alias(\"Total_Crimes\")).orderBy(desc(\"Total_Crimes\"))"
      ],
      "metadata": {
        "id": "-SBdrI42i84r"
      },
      "execution_count": null,
      "outputs": []
    },
    {
      "cell_type": "code",
      "source": [
        "Crime_category.show(10)"
      ],
      "metadata": {
        "colab": {
          "base_uri": "https://localhost:8080/"
        },
        "id": "kFrCYd60jI9y",
        "outputId": "944840b7-148a-411d-bb64-4e17d2695fd4"
      },
      "execution_count": null,
      "outputs": [
        {
          "output_type": "stream",
          "name": "stdout",
          "text": [
            "+--------------------------+------------+\n",
            "|Insult to modesty of Women|Total_Crimes|\n",
            "+--------------------------+------------+\n",
            "|                         0|        4534|\n",
            "|                         1|         728|\n",
            "|                         2|         531|\n",
            "|                         3|         385|\n",
            "|                         4|         329|\n",
            "|                         5|         284|\n",
            "|                         7|         225|\n",
            "|                         6|         222|\n",
            "|                         8|         177|\n",
            "|                         9|         165|\n",
            "+--------------------------+------------+\n",
            "only showing top 10 rows\n",
            "\n"
          ]
        }
      ]
    },
    {
      "cell_type": "code",
      "source": [
        "Crime_category = AB.groupBy(\"Cruelty by Husband or his Relatives\").agg(count(\"DISTRICT\").alias(\"Total_Crimes\")).orderBy(desc(\"Total_Crimes\"))"
      ],
      "metadata": {
        "id": "LN7zlMUBjLxg"
      },
      "execution_count": null,
      "outputs": []
    },
    {
      "cell_type": "code",
      "source": [
        "Crime_category.show(10)"
      ],
      "metadata": {
        "colab": {
          "base_uri": "https://localhost:8080/"
        },
        "id": "IQEYf7mOjiMo",
        "outputId": "2c838c5b-49f3-4f69-e262-f741802490a7"
      },
      "execution_count": null,
      "outputs": [
        {
          "output_type": "stream",
          "name": "stdout",
          "text": [
            "+--------------------------+------------+\n",
            "|Insult to modesty of Women|Total_Crimes|\n",
            "+--------------------------+------------+\n",
            "|                         0|        4534|\n",
            "|                         1|         728|\n",
            "|                         2|         531|\n",
            "|                         3|         385|\n",
            "|                         4|         329|\n",
            "|                         5|         284|\n",
            "|                         7|         225|\n",
            "|                         6|         222|\n",
            "|                         8|         177|\n",
            "|                         9|         165|\n",
            "+--------------------------+------------+\n",
            "only showing top 10 rows\n",
            "\n"
          ]
        }
      ]
    },
    {
      "cell_type": "code",
      "source": [
        "Crime_category = AB.groupBy(\"Importation of Girls\").agg(count(\"DISTRICT\").alias(\"Total_Crimes\")).orderBy(desc(\"Total_Crimes\"))"
      ],
      "metadata": {
        "id": "b5Exgdlvjn_v"
      },
      "execution_count": null,
      "outputs": []
    },
    {
      "cell_type": "code",
      "source": [
        "Crime_category.show(10)"
      ],
      "metadata": {
        "id": "a8i5uGtrjyhz",
        "outputId": "5513da19-6fcc-40bb-cbec-b2008b215962",
        "colab": {
          "base_uri": "https://localhost:8080/"
        }
      },
      "execution_count": null,
      "outputs": [
        {
          "output_type": "stream",
          "name": "stdout",
          "text": [
            "+--------------------+------------+\n",
            "|Importation of Girls|Total_Crimes|\n",
            "+--------------------+------------+\n",
            "|                   0|       10399|\n",
            "|                   1|         106|\n",
            "|                   2|          47|\n",
            "|                   3|          24|\n",
            "|                   5|          18|\n",
            "|                   4|          16|\n",
            "|                   9|           7|\n",
            "|                  12|           7|\n",
            "|                   8|           7|\n",
            "|                   6|           6|\n",
            "+--------------------+------------+\n",
            "only showing top 10 rows\n",
            "\n"
          ]
        }
      ]
    },
    {
      "cell_type": "markdown",
      "source": [
        " creatae crime trend and Convert crime trend to Pandas for visualization"
      ],
      "metadata": {
        "id": "TTI5DCELTVfg"
      }
    },
    {
      "cell_type": "code",
      "source": [
        "# Make sure the SparkSession is initialized\n",
        "from pyspark.sql import SparkSession\n",
        "spark = SparkSession.builder.appName(\"Crimes against women in india\").getOrCreate()\n",
        "\n",
        "# Define the path to your data\n",
        "data_path = \"/content/crimes_against_women_2001-2014.csv\"\n",
        "\n",
        "# Load the data into the AB DataFrame\n",
        "AB = spark.read.csv(data_path, header=True, inferSchema=True)\n",
        "\n",
        "# Now you can use AB to perform operations\n",
        "crime_trend = AB.groupBy(\"year\").agg(count(\"DISTRICT\").alias(\"Total_crimes\")).orderBy(\"year\")"
      ],
      "metadata": {
        "colab": {
          "base_uri": "https://localhost:8080/",
          "height": 176
        },
        "id": "IDDPYoA6Yeez",
        "outputId": "8e4b889c-b3e5-4230-dbad-9e71d386c15d"
      },
      "execution_count": 8,
      "outputs": [
        {
          "output_type": "error",
          "ename": "NameError",
          "evalue": "name 'count' is not defined",
          "traceback": [
            "\u001b[0;31m---------------------------------------------------------------------------\u001b[0m",
            "\u001b[0;31mNameError\u001b[0m                                 Traceback (most recent call last)",
            "\u001b[0;32m<ipython-input-8-d5a5fb181139>\u001b[0m in \u001b[0;36m<cell line: 0>\u001b[0;34m()\u001b[0m\n\u001b[1;32m     10\u001b[0m \u001b[0;34m\u001b[0m\u001b[0m\n\u001b[1;32m     11\u001b[0m \u001b[0;31m# Now you can use AB to perform operations\u001b[0m\u001b[0;34m\u001b[0m\u001b[0;34m\u001b[0m\u001b[0m\n\u001b[0;32m---> 12\u001b[0;31m \u001b[0mcrime_trend\u001b[0m \u001b[0;34m=\u001b[0m \u001b[0mAB\u001b[0m\u001b[0;34m.\u001b[0m\u001b[0mgroupBy\u001b[0m\u001b[0;34m(\u001b[0m\u001b[0;34m\"year\"\u001b[0m\u001b[0;34m)\u001b[0m\u001b[0;34m.\u001b[0m\u001b[0magg\u001b[0m\u001b[0;34m(\u001b[0m\u001b[0mcount\u001b[0m\u001b[0;34m(\u001b[0m\u001b[0;34m\"DISTRICT\"\u001b[0m\u001b[0;34m)\u001b[0m\u001b[0;34m.\u001b[0m\u001b[0malias\u001b[0m\u001b[0;34m(\u001b[0m\u001b[0;34m\"Total_crimes\"\u001b[0m\u001b[0;34m)\u001b[0m\u001b[0;34m)\u001b[0m\u001b[0;34m.\u001b[0m\u001b[0morderBy\u001b[0m\u001b[0;34m(\u001b[0m\u001b[0;34m\"year\"\u001b[0m\u001b[0;34m)\u001b[0m\u001b[0;34m\u001b[0m\u001b[0;34m\u001b[0m\u001b[0m\n\u001b[0m",
            "\u001b[0;31mNameError\u001b[0m: name 'count' is not defined"
          ]
        }
      ]
    },
    {
      "cell_type": "markdown",
      "source": [
        "creatae crime trend and Convert crime trend to Pandas for visualization"
      ],
      "metadata": {
        "id": "jZBhUi-lYzMx"
      }
    },
    {
      "cell_type": "code",
      "source": [
        "# Make sure the SparkSession is initialized\n",
        "from pyspark.sql import SparkSession\n",
        "spark = SparkSession.builder.appName(\"Crimes against women in india\").getOrCreate()\n",
        "\n",
        "# Define the path to your data\n",
        "data_path = \"/content/crimes_against_women_2001-2014.csv\"\n",
        "\n",
        "# Load the data into the AB DataFrame\n",
        "AB = spark.read.csv(data_path, header=True, inferSchema=True)\n",
        "\n",
        "# Now you can use AB to perform operations\n",
        "crime_trend = AB.groupBy(\"year\").agg(count(\"DISTRICT\").alias(\"Total_crimes\")).orderBy(\"year\")"
      ],
      "metadata": {
        "colab": {
          "base_uri": "https://localhost:8080/",
          "height": 176
        },
        "id": "zQKwvgScZLku",
        "outputId": "cc20c8ef-cb67-4797-f429-a783fed52e66"
      },
      "execution_count": 11,
      "outputs": [
        {
          "output_type": "error",
          "ename": "NameError",
          "evalue": "name 'count' is not defined",
          "traceback": [
            "\u001b[0;31m---------------------------------------------------------------------------\u001b[0m",
            "\u001b[0;31mNameError\u001b[0m                                 Traceback (most recent call last)",
            "\u001b[0;32m<ipython-input-11-d5a5fb181139>\u001b[0m in \u001b[0;36m<cell line: 0>\u001b[0;34m()\u001b[0m\n\u001b[1;32m     10\u001b[0m \u001b[0;34m\u001b[0m\u001b[0m\n\u001b[1;32m     11\u001b[0m \u001b[0;31m# Now you can use AB to perform operations\u001b[0m\u001b[0;34m\u001b[0m\u001b[0;34m\u001b[0m\u001b[0m\n\u001b[0;32m---> 12\u001b[0;31m \u001b[0mcrime_trend\u001b[0m \u001b[0;34m=\u001b[0m \u001b[0mAB\u001b[0m\u001b[0;34m.\u001b[0m\u001b[0mgroupBy\u001b[0m\u001b[0;34m(\u001b[0m\u001b[0;34m\"year\"\u001b[0m\u001b[0;34m)\u001b[0m\u001b[0;34m.\u001b[0m\u001b[0magg\u001b[0m\u001b[0;34m(\u001b[0m\u001b[0mcount\u001b[0m\u001b[0;34m(\u001b[0m\u001b[0;34m\"DISTRICT\"\u001b[0m\u001b[0;34m)\u001b[0m\u001b[0;34m.\u001b[0m\u001b[0malias\u001b[0m\u001b[0;34m(\u001b[0m\u001b[0;34m\"Total_crimes\"\u001b[0m\u001b[0;34m)\u001b[0m\u001b[0;34m)\u001b[0m\u001b[0;34m.\u001b[0m\u001b[0morderBy\u001b[0m\u001b[0;34m(\u001b[0m\u001b[0;34m\"year\"\u001b[0m\u001b[0;34m)\u001b[0m\u001b[0;34m\u001b[0m\u001b[0;34m\u001b[0m\u001b[0m\n\u001b[0m",
            "\u001b[0;31mNameError\u001b[0m: name 'count' is not defined"
          ]
        }
      ]
    },
    {
      "cell_type": "code",
      "source": [
        "# Make sure the SparkSession is initialized\n",
        "from pyspark.sql import SparkSession\n",
        "spark = SparkSession.builder.appName(\"Crimes against women in india\").getOrCreate()\n",
        "\n",
        "# Define the path to your data\n",
        "data_path = \"/content/crimes_against_women_2001-2014.csv\"\n",
        "\n",
        "# Load the data into the AB DataFrame\n",
        "AB = spark.read.csv(data_path, header=True, inferSchema=True)\n",
        "\n",
        "# Now you can use AB to perform operations\n",
        "from pyspark.sql.functions import count # Import the count function\n"
      ],
      "metadata": {
        "id": "fvZZvnosZT9r"
      },
      "execution_count": 13,
      "outputs": []
    },
    {
      "cell_type": "markdown",
      "source": [
        "CREATE AND CONVERT CRIME TRENDS TO PANDAS FOR VISUALIZATION"
      ],
      "metadata": {
        "id": "b_WfVu4rZpaD"
      }
    },
    {
      "cell_type": "code",
      "source": [
        "crime_trend = AB.groupBy(\"year\").agg(count(\"DISTRICT\").alias(\"Total_crimes\")).orderBy(\"year\")"
      ],
      "metadata": {
        "id": "MnGaFIsDZbfz"
      },
      "execution_count": 14,
      "outputs": []
    },
    {
      "cell_type": "code",
      "source": [
        "crime_trend.pd = crime_trend.toPandas()"
      ],
      "metadata": {
        "id": "YjmtlYmnZnJl"
      },
      "execution_count": 15,
      "outputs": []
    },
    {
      "cell_type": "code",
      "source": [
        "import matplotlib.pyplot as plt\n",
        "\n",
        "# ... (your previous code) ...\n",
        "\n",
        "# Convert crime trend to Pandas for visualization\n",
        "crime_trend_pd = crime_trend.toPandas()\n",
        "\n",
        "# Plot the data using the correct column name \"year\"\n",
        "plt.figure(figsize=(10, 5))\n",
        "plt.plot(crime_trend_pd[\"year\"], crime_trend_pd[\"Total_crimes\"], marker='o', linestyle='-')\n",
        "plt.xlabel(\"Year\")  # Add label for x-axis\n",
        "plt.ylabel(\"Total Crimes\")  # Add label for y-axis\n",
        "plt.title(\"Crime Trend Over the Years\")  # Add a title to the plot\n",
        "plt.show()  # Display the plot"
      ],
      "metadata": {
        "colab": {
          "base_uri": "https://localhost:8080/",
          "height": 458
        },
        "id": "H-5Atl0KbLBg",
        "outputId": "b6303d08-5e27-49a6-bbc1-652670c47e1b"
      },
      "execution_count": 22,
      "outputs": [
        {
          "output_type": "display_data",
          "data": {
            "text/plain": [
              "<Figure size 1000x500 with 1 Axes>"
            ],
            "image/png": "[encoded data removed]"
          },
          "metadata": {}
        }
      ]
    },
    {
      "cell_type": "markdown",
      "source": [
        "Save analysis results"
      ],
      "metadata": {
        "id": "Scy4wx0Ic088"
      }
    },
    {
      "cell_type": "code",
      "source": [
        "crime_trend.write.csv(\"/mnt/data/crime_trend_analysis\", mode=\"overwrite\")"
      ],
      "metadata": {
        "id": "HEuw1CHnbwUg"
      },
      "execution_count": 23,
      "outputs": []
    },
    {
      "cell_type": "code",
      "source": [
        "# Assuming the required imports and SparkSession are already set up\n",
        "\n",
        "# Define the path to your data\n",
        "data_path = \"/content/crimes_against_women_2001-2014.csv\"\n",
        "\n",
        "# Load the data into the AB DataFrame\n",
        "AB = spark.read.csv(data_path, header=True, inferSchema=True)\n",
        "\n",
        "# Calculate Top_states\n",
        "from pyspark.sql.functions import col, count, desc\n",
        "Top_states = AB.groupBy(\"STATE/UT\").agg(count(col(\"DISTRICT\")).alias(\"Total_Crimes\")).orderBy(desc(\"Total_Crimes\"))\n"
      ],
      "metadata": {
        "id": "GPBSfoePdBFk"
      },
      "execution_count": 26,
      "outputs": []
    },
    {
      "cell_type": "code",
      "source": [
        "# Now you can save it\n",
        "Top_states.write.csv(\"/mnt/data/top_states_analysis\", mode=\"overwrite\")"
      ],
      "metadata": {
        "id": "1OoCkcYwdcGZ"
      },
      "execution_count": 27,
      "outputs": []
    },
    {
      "cell_type": "markdown",
      "source": [
        "SAVING THE BIG DATA ANALYSIS"
      ],
      "metadata": {
        "id": "ThPTU9UDdpxX"
      }
    },
    {
      "cell_type": "code",
      "source": [
        "print(\"Big Data analysis using PySpark completed successfully!\")"
      ],
      "metadata": {
        "colab": {
          "base_uri": "https://localhost:8080/"
        },
        "id": "1AxfYesRdfVa",
        "outputId": "639d8090-031d-458c-ce8c-f384046083d2"
      },
      "execution_count": 28,
      "outputs": [
        {
          "output_type": "stream",
          "name": "stdout",
          "text": [
            "Big Data analysis using PySpark completed successfully!\n"
          ]
        }
      ]
    },
    {
      "cell_type": "code",
      "source": [],
      "metadata": {
        "id": "4lxzhLtqdlo2"
      },
      "execution_count": null,
      "outputs": []
    }
  ]
}